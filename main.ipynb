{
 "cells": [
  {
   "cell_type": "code",
   "execution_count": null,
   "metadata": {},
   "outputs": [],
   "source": [
    "import numpy as np\n",
    "import pandas as pd\n",
    "import sqlite3\n",
    "import matplotlib.pyplot as plt\n"
   ]
  },
  {
   "cell_type": "code",
   "execution_count": 6,
   "metadata": {},
   "outputs": [],
   "source": [
    "db=\"D:\\database.sqlite\"\n",
    "import sqlite3"
   ]
  },
  {
   "cell_type": "code",
   "execution_count": 7,
   "metadata": {},
   "outputs": [],
   "source": [
    "connection=sqlite3.connect(db)"
   ]
  },
  {
   "cell_type": "code",
   "execution_count": null,
   "metadata": {},
   "outputs": [],
   "source": [
    "allTable=pd.read_sql(\"select * from sqlite_master where type='table';\",connection)"
   ]
  },
  {
   "cell_type": "code",
   "execution_count": null,
   "metadata": {},
   "outputs": [],
   "source": [
    "allTable"
   ]
  },
  {
   "cell_type": "markdown",
   "metadata": {},
   "source": [
    "## List All the Countries⬇️"
   ]
  },
  {
   "cell_type": "code",
   "execution_count": null,
   "metadata": {},
   "outputs": [],
   "source": [
    "allCountries=pd.read_sql(\"select * from country\",connection)\n",
    "\n",
    "allCountries"
   ]
  },
  {
   "cell_type": "code",
   "execution_count": null,
   "metadata": {},
   "outputs": [],
   "source": []
  },
  {
   "cell_type": "markdown",
   "metadata": {},
   "source": [
    "## List All The Leagues Along With Country⬇️"
   ]
  },
  {
   "cell_type": "markdown",
   "metadata": {},
   "source": []
  },
  {
   "cell_type": "code",
   "execution_count": null,
   "metadata": {},
   "outputs": [],
   "source": [
    "allLeagues=pd.read_sql('select lg.id, lg.name league , lg.country_id,ct.name as country  from league lg join country ct on ct.id=lg.country_id',connection)\n",
    "\n",
    "allLeagues"
   ]
  },
  {
   "cell_type": "markdown",
   "metadata": {},
   "source": [
    "## List Top 10 Teams Ordered By Team long Name⬇️"
   ]
  },
  {
   "cell_type": "code",
   "execution_count": null,
   "metadata": {},
   "outputs": [],
   "source": [
    "topTeams=pd.read_sql(\"select * from team order by team_long_name limit 10\",connection)\n",
    "topTeams"
   ]
  },
  {
   "cell_type": "markdown",
   "metadata": {},
   "source": [
    "## List Details of Top 5 Matches Played in Year 2015 Having Highest Goals⬇️"
   ]
  },
  {
   "cell_type": "code",
   "execution_count": null,
   "metadata": {},
   "outputs": [],
   "source": [
    "matchDetails=pd.read_sql(\"select ma.id,ma.match_api_id match_id,lg.name league,ma.season,t1.team_short_name  home_team, t2.team_short_name away_team, ma.home_team_goal, ma.away_team_goal from match ma left join league lg on ma.league_id= lg.id left join team t1 on t1.team_api_id=ma.home_team_api_id left join team t2 on t2.team_api_id= ma.away_team_api_id  where date>='2015-01-01' and date<= '2015-12-31' order by (home_team_goal+away_team_goal) desc limit 5 \",connection)\n",
    "\n",
    "matchDetails"
   ]
  },
  {
   "cell_type": "markdown",
   "metadata": {},
   "source": [
    "## Aggregate Performance of a country in each league⬇️"
   ]
  },
  {
   "cell_type": "code",
   "execution_count": null,
   "metadata": {},
   "outputs": [],
   "source": [
    "countryPerformance=pd.read_sql(\"\"\"SELECT Country.name AS country_name, \n",
    "                                        League.name AS league_name, \n",
    "                                        season,\n",
    "                                        count(distinct stage) AS number_of_stages,\n",
    "                                        count(distinct HT.team_long_name) AS number_of_teams,\n",
    "                                        avg(home_team_goal) AS avg_home_team_goals, \n",
    "                                        avg(away_team_goal) AS avg_away_team_goals, \n",
    "                                        avg(home_team_goal-away_team_goal) AS avg_goal_dif, \n",
    "                                        avg(home_team_goal+away_team_goal) AS avg_goals, \n",
    "                                        sum(home_team_goal+away_team_goal) AS total_goals                                       \n",
    "                                FROM Match\n",
    "                                JOIN Country on Country.id = Match.country_id\n",
    "                                JOIN League on League.id = Match.league_id\n",
    "                                LEFT JOIN Team AS HT on HT.team_api_id = Match.home_team_api_id\n",
    "                                LEFT JOIN Team AS AT on AT.team_api_id = Match.away_team_api_id\n",
    "                                GROUP BY Country.name, League.name,season\n",
    "                                ORDER BY Country.name, League.name, season DESC\n",
    "                                ;\"\"\",connection)"
   ]
  },
  {
   "cell_type": "code",
   "execution_count": null,
   "metadata": {},
   "outputs": [],
   "source": [
    "countryPerformance"
   ]
  },
  {
   "cell_type": "code",
   "execution_count": null,
   "metadata": {},
   "outputs": [],
   "source": [
    "def plot_metrics(country, league, df):\n",
    "    subset = df[(df['country_name'] == country) & (df['league_name'] == league)]\n",
    "    \n",
    "    fig, axs = plt.subplots(4, 1, figsize=(10, 20), sharex=True)\n",
    "    \n",
    "    axs[0].plot(subset['season'], subset['avg_home_team_goals'], marker='o')\n",
    "    axs[0].set_title(f'Average Home Team Goals - {league}')\n",
    "    axs[0].set_ylabel('Avg Home Team Goals')\n",
    "    \n",
    "    axs[1].plot(subset['season'], subset['avg_away_team_goals'], marker='o', color='orange')\n",
    "    axs[1].set_title(f'Average Away Team Goals - {league}')\n",
    "    axs[1].set_ylabel('Avg Away Team Goals')\n",
    "    \n",
    "    axs[2].plot(subset['season'], subset['avg_goal_dif'], marker='o', color='green')\n",
    "    axs[2].set_title(f'Average Goal Difference - {league}')\n",
    "    axs[2].set_ylabel('Avg Goal Difference')\n",
    "    \n",
    "    axs[3].plot(subset['season'], subset['total_goals'], marker='o', color='red')\n",
    "    axs[3].set_title(f'Total Goals - {league}')\n",
    "    axs[3].set_ylabel('Total Goals')\n",
    "    axs[3].set_xlabel('Season')\n",
    "    \n",
    "    plt.xticks(rotation=45)\n",
    "    plt.tight_layout()\n",
    "    plt.show()"
   ]
  },
  {
   "cell_type": "code",
   "execution_count": null,
   "metadata": {},
   "outputs": [],
   "source": [
    "plot_metrics('Belgium', 'Belgium Jupiler League', countryPerformance)"
   ]
  },
  {
   "cell_type": "markdown",
   "metadata": {},
   "source": [
    "## Total Goals Scored in a league ⬇️"
   ]
  },
  {
   "cell_type": "code",
   "execution_count": null,
   "metadata": {},
   "outputs": [],
   "source": [
    "most_goal_scored_leaguewise = pd.read_sql('''\n",
    "                                          select l.name Leagues, sum(home_team_goal+away_team_goal) Goals_Scored\n",
    "                                          from league l\n",
    "                                          left join match m\n",
    "                                          on l.id = m.league_id\n",
    "                                          group by m.league_id\n",
    "                                          order by Goals_Scored desc; \n",
    "                                          ''', connection)\n",
    "most_goal_scored_leaguewise"
   ]
  },
  {
   "cell_type": "markdown",
   "metadata": {},
   "source": [
    "## Evaluating Players on Preferred Foot⬇️"
   ]
  },
  {
   "cell_type": "code",
   "execution_count": null,
   "metadata": {},
   "outputs": [],
   "source": [
    "player_possibilities = pd.read_sql('''\n",
    "                                   select preferred_foot, round(avg(overall_rating),2) overall_rating, round(avg(potential),2) potential\n",
    "                                   from player_attributes pa\n",
    "                                   group by preferred_foot\n",
    "                                   having count(overall_rating) > 0 and count(potential) > 0;\n",
    "                                   ''', connection)\n",
    "player_possibilities"
   ]
  },
  {
   "cell_type": "markdown",
   "metadata": {},
   "source": [
    "## Teams with maximum chance of shoot creation divided on the basis of class⬇️"
   ]
  },
  {
   "cell_type": "code",
   "execution_count": null,
   "metadata": {},
   "outputs": [],
   "source": [
    "team_attr = pd.read_sql('''\n",
    "                        select buildUpPlayPassingClass as Playing_class, round(avg(chanceCreationShooting),2) as Chances_shoot, round(avg(buildUpPlayPassing),2) as Play_passing, round(avg(defencePressure),2) as Defence_pressure\n",
    "                        from team_attributes ta\n",
    "                        group by buildUpPlayPassingClass\n",
    "                        ''', connection)\n",
    "team_attr"
   ]
  }
 ],
 "metadata": {
  "kernelspec": {
   "display_name": "Python 3",
   "language": "python",
   "name": "python3"
  },
  "language_info": {
   "codemirror_mode": {
    "name": "ipython",
    "version": 3
   },
   "file_extension": ".py",
   "mimetype": "text/x-python",
   "name": "python",
   "nbconvert_exporter": "python",
   "pygments_lexer": "ipython3",
   "version": "3.11.2"
  }
 },
 "nbformat": 4,
 "nbformat_minor": 2
}
